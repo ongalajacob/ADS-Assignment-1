{
  "cells": [
    {
      "cell_type": "markdown",
      "source": [
        "## Pandas\n",
        "\n",
        "### Instructions\n",
        "\n",
        "This assignment will be done completely inside this Jupyter notebook with answers placed in the cell provided.\n",
        "\n",
        "All python imports that are needed shown.\n",
        "\n",
        "Follow all the instructions in this notebook to complete these tasks.    \n",
        "\n",
        "Make sure the CSV data files is in the same folder as this notebook - alumni.csv, groceries.csv"
      ],
      "metadata": {}
    },
    {
      "cell_type": "code",
      "source": [
        "# Imports needed to complete this assignment\n",
        "import pandas as pd"
      ],
      "outputs": [],
      "execution_count": 1,
      "metadata": {
        "gather": {
          "logged": 1616867782868
        }
      }
    },
    {
      "cell_type": "markdown",
      "source": [
        "### Question 1 :  Import CSV file (1 Mark)\n",
        "\n",
        "\n",
        "Write code to load the alumni csv dataset into a Pandas DataFrame called 'alumni'.\n"
      ],
      "metadata": {}
    },
    {
      "cell_type": "code",
      "source": [
        "#q1 (1)\n",
        "alumni = pd.read_csv('alumni.csv')"
      ],
      "outputs": [],
      "execution_count": 2,
      "metadata": {
        "gather": {
          "logged": 1616867930652
        }
      }
    },
    {
      "cell_type": "markdown",
      "source": [
        "### Question 2 :  Understand the data set (5 Marks)\n",
        "\n",
        "Use the following pandas commands to understand the data set: a) head, b) tail, c) dtypes, d) info, e) describe "
      ],
      "metadata": {}
    },
    {
      "cell_type": "code",
      "source": [
        "#a) (1)\n",
        "alumni.head()"
      ],
      "outputs": [
        {
          "output_type": "execute_result",
          "execution_count": 3,
          "data": {
            "text/plain": "   Year Graduated  Gender Marital Status          Diploma Type Defaulted  \\\n0            2004    Male         Single      Standard Diploma       Yes   \n1            2005    Male        Married  College Prep Diploma        No   \n2            2006  Female         Single      Standard Diploma       Yes   \n3            2007    Male        Married      Standard Diploma        No   \n4            2006  Female       Divorced      Standard Diploma       Yes   \n\n   Salary    Fee Savings ($)  \n0  125000  10869     $86,000  \n1  100000  10869    $116,000  \n2   70000  10869     $52,000  \n3  120000  10869     $76,000  \n4   95000  11948     $52,000  ",
            "text/html": "<div>\n<style scoped>\n    .dataframe tbody tr th:only-of-type {\n        vertical-align: middle;\n    }\n\n    .dataframe tbody tr th {\n        vertical-align: top;\n    }\n\n    .dataframe thead th {\n        text-align: right;\n    }\n</style>\n<table border=\"1\" class=\"dataframe\">\n  <thead>\n    <tr style=\"text-align: right;\">\n      <th></th>\n      <th>Year Graduated</th>\n      <th>Gender</th>\n      <th>Marital Status</th>\n      <th>Diploma Type</th>\n      <th>Defaulted</th>\n      <th>Salary</th>\n      <th>Fee</th>\n      <th>Savings ($)</th>\n    </tr>\n  </thead>\n  <tbody>\n    <tr>\n      <th>0</th>\n      <td>2004</td>\n      <td>Male</td>\n      <td>Single</td>\n      <td>Standard Diploma</td>\n      <td>Yes</td>\n      <td>125000</td>\n      <td>10869</td>\n      <td>$86,000</td>\n    </tr>\n    <tr>\n      <th>1</th>\n      <td>2005</td>\n      <td>Male</td>\n      <td>Married</td>\n      <td>College Prep Diploma</td>\n      <td>No</td>\n      <td>100000</td>\n      <td>10869</td>\n      <td>$116,000</td>\n    </tr>\n    <tr>\n      <th>2</th>\n      <td>2006</td>\n      <td>Female</td>\n      <td>Single</td>\n      <td>Standard Diploma</td>\n      <td>Yes</td>\n      <td>70000</td>\n      <td>10869</td>\n      <td>$52,000</td>\n    </tr>\n    <tr>\n      <th>3</th>\n      <td>2007</td>\n      <td>Male</td>\n      <td>Married</td>\n      <td>Standard Diploma</td>\n      <td>No</td>\n      <td>120000</td>\n      <td>10869</td>\n      <td>$76,000</td>\n    </tr>\n    <tr>\n      <th>4</th>\n      <td>2006</td>\n      <td>Female</td>\n      <td>Divorced</td>\n      <td>Standard Diploma</td>\n      <td>Yes</td>\n      <td>95000</td>\n      <td>11948</td>\n      <td>$52,000</td>\n    </tr>\n  </tbody>\n</table>\n</div>"
          },
          "metadata": {}
        }
      ],
      "execution_count": 3,
      "metadata": {
        "gather": {
          "logged": 1616868063434
        }
      }
    },
    {
      "cell_type": "code",
      "source": [
        "#b) (1)\n",
        "alumni.tail()"
      ],
      "outputs": [
        {
          "output_type": "execute_result",
          "execution_count": 4,
          "data": {
            "text/plain": "    Year Graduated  Gender Marital Status          Diploma Type Defaulted  \\\n83            2007    Male         Single      Standard Diploma        No   \n84            2008       M         Single  College Prep Diploma       Yes   \n85            2009    Male        Married      Standard Diploma        No   \n86            2005  Female       Divorced      Standard Diploma       Yes   \n87            2006    Male        Married      Standard Diploma       Yes   \n\n    Salary    Fee Savings ($)  \n83   75000  12066     $16,000  \n84   65000  12066     $72,000  \n85   75000  12066     $46,000  \n86  100000  12067     $32,000  \n87   75000  12067     $67,000  ",
            "text/html": "<div>\n<style scoped>\n    .dataframe tbody tr th:only-of-type {\n        vertical-align: middle;\n    }\n\n    .dataframe tbody tr th {\n        vertical-align: top;\n    }\n\n    .dataframe thead th {\n        text-align: right;\n    }\n</style>\n<table border=\"1\" class=\"dataframe\">\n  <thead>\n    <tr style=\"text-align: right;\">\n      <th></th>\n      <th>Year Graduated</th>\n      <th>Gender</th>\n      <th>Marital Status</th>\n      <th>Diploma Type</th>\n      <th>Defaulted</th>\n      <th>Salary</th>\n      <th>Fee</th>\n      <th>Savings ($)</th>\n    </tr>\n  </thead>\n  <tbody>\n    <tr>\n      <th>83</th>\n      <td>2007</td>\n      <td>Male</td>\n      <td>Single</td>\n      <td>Standard Diploma</td>\n      <td>No</td>\n      <td>75000</td>\n      <td>12066</td>\n      <td>$16,000</td>\n    </tr>\n    <tr>\n      <th>84</th>\n      <td>2008</td>\n      <td>M</td>\n      <td>Single</td>\n      <td>College Prep Diploma</td>\n      <td>Yes</td>\n      <td>65000</td>\n      <td>12066</td>\n      <td>$72,000</td>\n    </tr>\n    <tr>\n      <th>85</th>\n      <td>2009</td>\n      <td>Male</td>\n      <td>Married</td>\n      <td>Standard Diploma</td>\n      <td>No</td>\n      <td>75000</td>\n      <td>12066</td>\n      <td>$46,000</td>\n    </tr>\n    <tr>\n      <th>86</th>\n      <td>2005</td>\n      <td>Female</td>\n      <td>Divorced</td>\n      <td>Standard Diploma</td>\n      <td>Yes</td>\n      <td>100000</td>\n      <td>12067</td>\n      <td>$32,000</td>\n    </tr>\n    <tr>\n      <th>87</th>\n      <td>2006</td>\n      <td>Male</td>\n      <td>Married</td>\n      <td>Standard Diploma</td>\n      <td>Yes</td>\n      <td>75000</td>\n      <td>12067</td>\n      <td>$67,000</td>\n    </tr>\n  </tbody>\n</table>\n</div>"
          },
          "metadata": {}
        }
      ],
      "execution_count": 4,
      "metadata": {
        "gather": {
          "logged": 1616868109057
        }
      }
    },
    {
      "cell_type": "code",
      "source": [
        "#c) (1)\n",
        "alumni.dtypes"
      ],
      "outputs": [
        {
          "output_type": "error",
          "ename": "TypeError",
          "evalue": "'Series' object is not callable",
          "traceback": [
            "\u001b[0;31m---------------------------------------------------------------------------\u001b[0m",
            "\u001b[0;31mTypeError\u001b[0m                                 Traceback (most recent call last)",
            "\u001b[0;32m<ipython-input-12-08b9fd92155c>\u001b[0m in \u001b[0;36m<module>\u001b[0;34m\u001b[0m\n\u001b[1;32m      1\u001b[0m \u001b[0;31m#c) (1)\u001b[0m\u001b[0;34m\u001b[0m\u001b[0;34m\u001b[0m\u001b[0;34m\u001b[0m\u001b[0m\n\u001b[0;32m----> 2\u001b[0;31m \u001b[0malumni\u001b[0m\u001b[0;34m.\u001b[0m\u001b[0mdtypes\u001b[0m\u001b[0;34m(\u001b[0m\u001b[0;34m)\u001b[0m\u001b[0;34m\u001b[0m\u001b[0;34m\u001b[0m\u001b[0m\n\u001b[0m",
            "\u001b[0;31mTypeError\u001b[0m: 'Series' object is not callable"
          ]
        }
      ],
      "execution_count": 12,
      "metadata": {
        "gather": {
          "logged": 1616868246810
        }
      }
    },
    {
      "cell_type": "code",
      "source": [
        "#d) (1)\n",
        "alumni.info()"
      ],
      "outputs": [
        {
          "output_type": "stream",
          "name": "stdout",
          "text": [
            "<class 'pandas.core.frame.DataFrame'>\n",
            "RangeIndex: 88 entries, 0 to 87\n",
            "Data columns (total 8 columns):\n",
            "Year Graduated    88 non-null int64\n",
            "Gender            88 non-null object\n",
            "Marital Status    88 non-null object\n",
            "Diploma Type      88 non-null object\n",
            "Defaulted         88 non-null object\n",
            "Salary            88 non-null int64\n",
            "Fee               88 non-null int64\n",
            "Savings ($)       88 non-null object\n",
            "dtypes: int64(3), object(5)\n",
            "memory usage: 5.6+ KB\n"
          ]
        }
      ],
      "execution_count": 11,
      "metadata": {
        "gather": {
          "logged": 1616868388427
        }
      }
    },
    {
      "cell_type": "code",
      "source": [
        "#e) (1)\n",
        "alumni.describe()"
      ],
      "outputs": [
        {
          "output_type": "execute_result",
          "execution_count": 10,
          "data": {
            "text/plain": "       Year Graduated         Salary           Fee\ncount       88.000000      88.000000     88.000000\nmean      2006.477273   84090.909091  11708.727273\nstd          1.560852   21234.128008   1110.647949\nmin       2004.000000   35000.000000  10869.000000\n25%       2005.000000   75000.000000  10968.000000\n50%       2006.500000   75000.000000  11696.000000\n75%       2008.000000   90000.000000  12058.250000\nmax       2009.000000  160000.000000  20960.000000",
            "text/html": "<div>\n<style scoped>\n    .dataframe tbody tr th:only-of-type {\n        vertical-align: middle;\n    }\n\n    .dataframe tbody tr th {\n        vertical-align: top;\n    }\n\n    .dataframe thead th {\n        text-align: right;\n    }\n</style>\n<table border=\"1\" class=\"dataframe\">\n  <thead>\n    <tr style=\"text-align: right;\">\n      <th></th>\n      <th>Year Graduated</th>\n      <th>Salary</th>\n      <th>Fee</th>\n    </tr>\n  </thead>\n  <tbody>\n    <tr>\n      <th>count</th>\n      <td>88.000000</td>\n      <td>88.000000</td>\n      <td>88.000000</td>\n    </tr>\n    <tr>\n      <th>mean</th>\n      <td>2006.477273</td>\n      <td>84090.909091</td>\n      <td>11708.727273</td>\n    </tr>\n    <tr>\n      <th>std</th>\n      <td>1.560852</td>\n      <td>21234.128008</td>\n      <td>1110.647949</td>\n    </tr>\n    <tr>\n      <th>min</th>\n      <td>2004.000000</td>\n      <td>35000.000000</td>\n      <td>10869.000000</td>\n    </tr>\n    <tr>\n      <th>25%</th>\n      <td>2005.000000</td>\n      <td>75000.000000</td>\n      <td>10968.000000</td>\n    </tr>\n    <tr>\n      <th>50%</th>\n      <td>2006.500000</td>\n      <td>75000.000000</td>\n      <td>11696.000000</td>\n    </tr>\n    <tr>\n      <th>75%</th>\n      <td>2008.000000</td>\n      <td>90000.000000</td>\n      <td>12058.250000</td>\n    </tr>\n    <tr>\n      <th>max</th>\n      <td>2009.000000</td>\n      <td>160000.000000</td>\n      <td>20960.000000</td>\n    </tr>\n  </tbody>\n</table>\n</div>"
          },
          "metadata": {}
        }
      ],
      "execution_count": 10,
      "metadata": {
        "gather": {
          "logged": 1616868371419
        }
      }
    },
    {
      "cell_type": "markdown",
      "source": [
        "### Question 3 :  Cleaning the data set - part A (3 Marks)\n",
        "\n",
        "a) Use clean_currency method below to strip out commas and dollar signs from Savings ($) column and put into a new column called 'Savings'."
      ],
      "metadata": {}
    },
    {
      "cell_type": "code",
      "source": [
        "def clean_currency(curr):\n",
        "    return float(curr.replace(\",\", \"\").replace(\"$\", \"\"))\n",
        "\n",
        "clean_currency(\"$66,000\")\n",
        " "
      ],
      "outputs": [
        {
          "output_type": "execute_result",
          "execution_count": 8,
          "data": {
            "text/plain": "66000.0"
          },
          "metadata": {}
        }
      ],
      "execution_count": 8,
      "metadata": {}
    },
    {
      "cell_type": "code",
      "source": [
        "#a) (2)\n",
        "def clean_currency(curr):\n",
        "    return float(curr.replace(\",\", \"\").replace(\"$\", \"\"))\n",
        "\n",
        "alumni['Savings']=alumni['Savings ($)'].apply(lambda x: f\"{clean_currency(x)}\")\n",
        "alumni.head()"
      ],
      "outputs": [
        {
          "output_type": "execute_result",
          "execution_count": 13,
          "data": {
            "text/plain": "   Year Graduated  Gender Marital Status          Diploma Type Defaulted  \\\n0            2004    Male         Single      Standard Diploma       Yes   \n1            2005    Male        Married  College Prep Diploma        No   \n2            2006  Female         Single      Standard Diploma       Yes   \n3            2007    Male        Married      Standard Diploma        No   \n4            2006  Female       Divorced      Standard Diploma       Yes   \n\n   Salary    Fee Savings ($)   Savings  \n0  125000  10869     $86,000   86000.0  \n1  100000  10869    $116,000  116000.0  \n2   70000  10869     $52,000   52000.0  \n3  120000  10869     $76,000   76000.0  \n4   95000  11948     $52,000   52000.0  ",
            "text/html": "<div>\n<style scoped>\n    .dataframe tbody tr th:only-of-type {\n        vertical-align: middle;\n    }\n\n    .dataframe tbody tr th {\n        vertical-align: top;\n    }\n\n    .dataframe thead th {\n        text-align: right;\n    }\n</style>\n<table border=\"1\" class=\"dataframe\">\n  <thead>\n    <tr style=\"text-align: right;\">\n      <th></th>\n      <th>Year Graduated</th>\n      <th>Gender</th>\n      <th>Marital Status</th>\n      <th>Diploma Type</th>\n      <th>Defaulted</th>\n      <th>Salary</th>\n      <th>Fee</th>\n      <th>Savings ($)</th>\n      <th>Savings</th>\n    </tr>\n  </thead>\n  <tbody>\n    <tr>\n      <th>0</th>\n      <td>2004</td>\n      <td>Male</td>\n      <td>Single</td>\n      <td>Standard Diploma</td>\n      <td>Yes</td>\n      <td>125000</td>\n      <td>10869</td>\n      <td>$86,000</td>\n      <td>86000.0</td>\n    </tr>\n    <tr>\n      <th>1</th>\n      <td>2005</td>\n      <td>Male</td>\n      <td>Married</td>\n      <td>College Prep Diploma</td>\n      <td>No</td>\n      <td>100000</td>\n      <td>10869</td>\n      <td>$116,000</td>\n      <td>116000.0</td>\n    </tr>\n    <tr>\n      <th>2</th>\n      <td>2006</td>\n      <td>Female</td>\n      <td>Single</td>\n      <td>Standard Diploma</td>\n      <td>Yes</td>\n      <td>70000</td>\n      <td>10869</td>\n      <td>$52,000</td>\n      <td>52000.0</td>\n    </tr>\n    <tr>\n      <th>3</th>\n      <td>2007</td>\n      <td>Male</td>\n      <td>Married</td>\n      <td>Standard Diploma</td>\n      <td>No</td>\n      <td>120000</td>\n      <td>10869</td>\n      <td>$76,000</td>\n      <td>76000.0</td>\n    </tr>\n    <tr>\n      <th>4</th>\n      <td>2006</td>\n      <td>Female</td>\n      <td>Divorced</td>\n      <td>Standard Diploma</td>\n      <td>Yes</td>\n      <td>95000</td>\n      <td>11948</td>\n      <td>$52,000</td>\n      <td>52000.0</td>\n    </tr>\n  </tbody>\n</table>\n</div>"
          },
          "metadata": {}
        }
      ],
      "execution_count": 13,
      "metadata": {
        "gather": {
          "logged": 1616869036270
        }
      }
    },
    {
      "cell_type": "markdown",
      "source": [
        "b) Uncomment 'alumni.dtypes.Savings' to check that the type change has occurred"
      ],
      "metadata": {}
    },
    {
      "cell_type": "code",
      "source": [
        "#b) (1)\n",
        "alumni.dtypes.Savings"
      ],
      "outputs": [
        {
          "output_type": "execute_result",
          "execution_count": 16,
          "data": {
            "text/plain": "dtype('O')"
          },
          "metadata": {}
        }
      ],
      "execution_count": 16,
      "metadata": {
        "gather": {
          "logged": 1616869179447
        }
      }
    },
    {
      "cell_type": "markdown",
      "source": [
        "### Question 4 :  Cleaning the data set - part B (5 Marks)\n",
        "\n",
        "a) Run the 'alumni[\"Gender\"].value_counts()' to see the incorrect 'M' fields that need to be converted to 'Male'"
      ],
      "metadata": {}
    },
    {
      "cell_type": "code",
      "source": [
        "# a) (1)\n",
        "alumni[\"Gender\"].value_counts()"
      ],
      "outputs": [
        {
          "output_type": "execute_result",
          "execution_count": 18,
          "data": {
            "text/plain": "Male      46\nFemale    39\nM          3\nName: Gender, dtype: int64"
          },
          "metadata": {}
        }
      ],
      "execution_count": 18,
      "metadata": {
        "gather": {
          "logged": 1616869280223
        }
      }
    },
    {
      "cell_type": "markdown",
      "source": [
        "b) Now use a '.str.replace' on the 'Gender' column to covert the incorrect 'M' fields. Hint: We must use ^...$ to restrict the pattern to match the whole string. "
      ],
      "metadata": {}
    },
    {
      "cell_type": "code",
      "source": [
        "# b) (1)\n",
        "alumni[\"Gender\"].str.replace('^M$', 'Male')"
      ],
      "outputs": [],
      "execution_count": 36,
      "metadata": {
        "gather": {
          "logged": 1616872542139
        }
      }
    },
    {
      "cell_type": "markdown",
      "source": [
        "c) That didn't the set alumni[\"Gender\"] column however. You will need to update the column when using the replace command 'alumni[\"Gender\"]=<replace command>', show how this is done below"
      ],
      "metadata": {}
    },
    {
      "cell_type": "code",
      "source": [
        "# c) (1)\n",
        "alumni[\"Gender\"]= alumni[\"Gender\"].str.replace('^M$', 'Male')"
      ],
      "outputs": [],
      "execution_count": 14,
      "metadata": {}
    },
    {
      "cell_type": "markdown",
      "source": [
        "d) You can set it directly by using the df.loc command, show how this can be done by using the 'df.loc[row_indexer,col_indexer] = value' command to convert the 'M' to 'Male'"
      ],
      "metadata": {}
    },
    {
      "cell_type": "code",
      "source": [
        "# d) (1)\n",
        "alumni.iloc[:, 1].str.replace('^M$', 'Make')"
      ],
      "outputs": [
        {
          "output_type": "execute_result",
          "execution_count": 39,
          "data": {
            "text/plain": "0       Male\n1       Male\n2     Female\n3       Male\n4     Female\n       ...  \n83      Male\n84      Male\n85      Male\n86    Female\n87      Male\nName: Gender, Length: 88, dtype: object"
          },
          "metadata": {}
        }
      ],
      "execution_count": 39,
      "metadata": {
        "gather": {
          "logged": 1616872852033
        }
      }
    },
    {
      "cell_type": "markdown",
      "source": [
        "e) Now run the 'value_counts' for Gender again to see the correct columns - 'Male' and 'Female' "
      ],
      "metadata": {}
    },
    {
      "cell_type": "code",
      "source": [
        "# e) (1)\n",
        "alumni[\"Gender\"].value_counts()"
      ],
      "outputs": [
        {
          "output_type": "execute_result",
          "execution_count": 40,
          "data": {
            "text/plain": "Male      49\nFemale    39\nName: Gender, dtype: int64"
          },
          "metadata": {}
        }
      ],
      "execution_count": 40,
      "metadata": {
        "gather": {
          "logged": 1616872872261
        }
      }
    },
    {
      "cell_type": "markdown",
      "source": [
        "### Question 5 :  Working with the data set (4)\n",
        "\n",
        "a) get the median, b) mean and c) standard deviation for the 'Salary' column"
      ],
      "metadata": {}
    },
    {
      "cell_type": "code",
      "source": [
        "# a)(1)\n",
        "alumni['Salary'].median()"
      ],
      "outputs": [
        {
          "output_type": "execute_result",
          "execution_count": 41,
          "data": {
            "text/plain": "75000.0"
          },
          "metadata": {}
        }
      ],
      "execution_count": 41,
      "metadata": {
        "gather": {
          "logged": 1616873382872
        }
      }
    },
    {
      "cell_type": "code",
      "source": [
        "# b)(1)\n",
        "alumni['Salary'].mean()"
      ],
      "outputs": [
        {
          "output_type": "execute_result",
          "execution_count": 42,
          "data": {
            "text/plain": "84090.90909090909"
          },
          "metadata": {}
        }
      ],
      "execution_count": 42,
      "metadata": {
        "gather": {
          "logged": 1616873398141
        }
      }
    },
    {
      "cell_type": "code",
      "source": [
        "# c)(1)\n",
        "alumni['Salary'].std()"
      ],
      "outputs": [
        {
          "output_type": "execute_result",
          "execution_count": 43,
          "data": {
            "text/plain": "21234.128008173615"
          },
          "metadata": {}
        }
      ],
      "execution_count": 43,
      "metadata": {
        "gather": {
          "logged": 1616873434494
        }
      }
    },
    {
      "cell_type": "markdown",
      "source": [
        "d) identify which alumni paid more than $15000 in fees, using the 'Fee' column"
      ],
      "metadata": {}
    },
    {
      "cell_type": "code",
      "source": [
        "# d) (1)\n",
        " alumni.loc[alumni['Fee'] > 15000]"
      ],
      "outputs": [
        {
          "output_type": "execute_result",
          "execution_count": 44,
          "data": {
            "text/plain": "    Year Graduated Gender Marital Status      Diploma Type Defaulted  Salary  \\\n18            2006   Male        Married  Standard Diploma        No  140000   \n\n      Fee Savings ($)  Savings  \n18  20960     $72,000  72000.0  ",
            "text/html": "<div>\n<style scoped>\n    .dataframe tbody tr th:only-of-type {\n        vertical-align: middle;\n    }\n\n    .dataframe tbody tr th {\n        vertical-align: top;\n    }\n\n    .dataframe thead th {\n        text-align: right;\n    }\n</style>\n<table border=\"1\" class=\"dataframe\">\n  <thead>\n    <tr style=\"text-align: right;\">\n      <th></th>\n      <th>Year Graduated</th>\n      <th>Gender</th>\n      <th>Marital Status</th>\n      <th>Diploma Type</th>\n      <th>Defaulted</th>\n      <th>Salary</th>\n      <th>Fee</th>\n      <th>Savings ($)</th>\n      <th>Savings</th>\n    </tr>\n  </thead>\n  <tbody>\n    <tr>\n      <th>18</th>\n      <td>2006</td>\n      <td>Male</td>\n      <td>Married</td>\n      <td>Standard Diploma</td>\n      <td>No</td>\n      <td>140000</td>\n      <td>20960</td>\n      <td>$72,000</td>\n      <td>72000.0</td>\n    </tr>\n  </tbody>\n</table>\n</div>"
          },
          "metadata": {}
        }
      ],
      "execution_count": 44,
      "metadata": {
        "gather": {
          "logged": 1616873620515
        }
      }
    },
    {
      "cell_type": "markdown",
      "source": [
        "### Question 6 :  Visualise the data set (4 Marks)\n",
        "\n",
        "a) Using the 'Diploma Type' column, plot a bar chart and show its value counts."
      ],
      "metadata": {}
    },
    {
      "cell_type": "code",
      "source": [
        "#a) (1)\n",
        "alumni['Diploma Type'].value_counts().plot(kind='bar')"
      ],
      "outputs": [
        {
          "output_type": "execute_result",
          "execution_count": 45,
          "data": {
            "text/plain": "<matplotlib.axes._subplots.AxesSubplot at 0x7f83e1ba9e48>"
          },
          "metadata": {}
        },
        {
          "output_type": "display_data",
          "data": {
            "text/plain": "<Figure size 432x288 with 1 Axes>",
            "image/png": "[encoded data removed]"
          },
          "metadata": {
            "needs_background": "light"
          }
        }
      ],
      "execution_count": 45,
      "metadata": {
        "scrolled": false,
        "gather": {
          "logged": 1616873916063
        }
      }
    },
    {
      "cell_type": "markdown",
      "source": [
        "b) Now create a box plot comparison between 'Savings' and 'Salary' columns"
      ],
      "metadata": {}
    },
    {
      "cell_type": "code",
      "source": [
        "#b) (1)\n"
      ],
      "outputs": [],
      "execution_count": 61,
      "metadata": {
        "gather": {
          "logged": 1616875775365
        }
      }
    },
    {
      "cell_type": "markdown",
      "source": [
        "c) Generate a histogram with the 'Salary' column and use 12 bins."
      ],
      "metadata": {}
    },
    {
      "cell_type": "code",
      "source": [
        "#c) (1)\n"
      ],
      "outputs": [],
      "execution_count": 23,
      "metadata": {}
    },
    {
      "cell_type": "markdown",
      "source": [
        "d) Generate a scatter plot comparing 'Salary' and 'Savings' columns."
      ],
      "metadata": {}
    },
    {
      "cell_type": "code",
      "source": [
        "#d) (1)\n"
      ],
      "outputs": [],
      "execution_count": 24,
      "metadata": {
        "scrolled": true
      }
    },
    {
      "cell_type": "markdown",
      "source": [
        "### Question 7 :  Contingency Table (2 Marks)\n",
        "\n",
        "Using both the 'Martial Status' and 'Defaulted' create a contingency table. Hint: crosstab"
      ],
      "metadata": {}
    },
    {
      "cell_type": "code",
      "source": [
        "# Q7 (2)\n"
      ],
      "outputs": [],
      "execution_count": 25,
      "metadata": {}
    }
  ],
  "metadata": {
    "kernelspec": {
      "name": "python3",
      "language": "python",
      "display_name": "Python 3"
    },
    "language_info": {
      "name": "python",
      "version": "3.6.9",
      "mimetype": "text/x-python",
      "codemirror_mode": {
        "name": "ipython",
        "version": 3
      },
      "pygments_lexer": "ipython3",
      "nbconvert_exporter": "python",
      "file_extension": ".py"
    },
    "kernel_info": {
      "name": "python3"
    },
    "nteract": {
      "version": "nteract-front-end@1.0.0"
    }
  },
  "nbformat": 4,
  "nbformat_minor": 2
}