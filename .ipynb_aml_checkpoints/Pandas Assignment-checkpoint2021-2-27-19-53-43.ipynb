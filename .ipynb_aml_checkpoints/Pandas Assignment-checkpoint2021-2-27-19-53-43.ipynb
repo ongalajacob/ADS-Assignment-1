{
  "cells": [
    {
      "cell_type": "markdown",
      "source": [
        "## Pandas\n",
        "\n",
        "### Instructions\n",
        "\n",
        "This assignment will be done completely inside this Jupyter notebook with answers placed in the cell provided.\n",
        "\n",
        "All python imports that are needed shown.\n",
        "\n",
        "Follow all the instructions in this notebook to complete these tasks.    \n",
        "\n",
        "Make sure the CSV data files is in the same folder as this notebook - alumni.csv, groceries.csv"
      ],
      "metadata": {}
    },
    {
      "cell_type": "code",
      "source": [
        "# Imports needed to complete this assignment\n"
      ],
      "outputs": [],
      "execution_count": 1,
      "metadata": {}
    },
    {
      "cell_type": "markdown",
      "source": [
        "### Question 1 :  Import CSV file (1 Mark)\n",
        "\n",
        "\n",
        "Write code to load the alumni csv dataset into a Pandas DataFrame called 'alumni'.\n"
      ],
      "metadata": {}
    },
    {
      "cell_type": "code",
      "source": [
        "#q1 (1)\n"
      ],
      "outputs": [],
      "execution_count": 2,
      "metadata": {}
    },
    {
      "cell_type": "markdown",
      "source": [
        "### Question 2 :  Understand the data set (5 Marks)\n",
        "\n",
        "Use the following pandas commands to understand the data set: a) head, b) tail, c) dtypes, d) info, e) describe "
      ],
      "metadata": {}
    },
    {
      "cell_type": "code",
      "source": [
        "#a) (1)\n"
      ],
      "outputs": [],
      "execution_count": 3,
      "metadata": {}
    },
    {
      "cell_type": "code",
      "source": [
        "#b) (1)\n"
      ],
      "outputs": [],
      "execution_count": 4,
      "metadata": {}
    },
    {
      "cell_type": "code",
      "source": [
        "#c) (1)\n"
      ],
      "outputs": [],
      "execution_count": 5,
      "metadata": {}
    },
    {
      "cell_type": "code",
      "source": [
        "#d) (1)\n"
      ],
      "outputs": [],
      "execution_count": 6,
      "metadata": {}
    },
    {
      "cell_type": "code",
      "source": [
        "#e) (1)\n"
      ],
      "outputs": [],
      "execution_count": 7,
      "metadata": {}
    },
    {
      "cell_type": "markdown",
      "source": [
        "### Question 3 :  Cleaning the data set - part A (3 Marks)\n",
        "\n",
        "a) Use clean_currency method below to strip out commas and dollar signs from Savings ($) column and put into a new column called 'Savings'."
      ],
      "metadata": {}
    },
    {
      "cell_type": "code",
      "source": [
        "def clean_currency(curr):\n",
        "    return float(curr.replace(\",\", \"\").replace(\"$\", \"\"))\n",
        "\n",
        "clean_currency(\"$66,000\")\n",
        " "
      ],
      "outputs": [
        {
          "output_type": "execute_result",
          "execution_count": 8,
          "data": {
            "text/plain": "66000.0"
          },
          "metadata": {}
        }
      ],
      "execution_count": 8,
      "metadata": {}
    },
    {
      "cell_type": "code",
      "source": [
        "#a) (2)\n"
      ],
      "outputs": [],
      "execution_count": 9,
      "metadata": {}
    },
    {
      "cell_type": "markdown",
      "source": [
        "b) Uncomment 'alumni.dtypes.Savings' to check that the type change has occurred"
      ],
      "metadata": {}
    },
    {
      "cell_type": "code",
      "source": [
        "#b) (1)\n",
        "#alumni.dtypes.Savings"
      ],
      "outputs": [],
      "execution_count": 10,
      "metadata": {}
    },
    {
      "cell_type": "markdown",
      "source": [
        "### Question 4 :  Cleaning the data set - part B (5 Marks)\n",
        "\n",
        "a) Run the 'alumni[\"Gender\"].value_counts()' to see the incorrect 'M' fields that need to be converted to 'Male'"
      ],
      "metadata": {}
    },
    {
      "cell_type": "code",
      "source": [
        "# a) (1)\n"
      ],
      "outputs": [],
      "execution_count": 11,
      "metadata": {}
    },
    {
      "cell_type": "markdown",
      "source": [
        "b) Now use a '.str.replace' on the 'Gender' column to covert the incorrect 'M' fields. Hint: We must use ^...$ to restrict the pattern to match the whole string. "
      ],
      "metadata": {}
    },
    {
      "cell_type": "code",
      "source": [
        "# b) (1)\n"
      ],
      "outputs": [],
      "execution_count": 12,
      "metadata": {}
    },
    {
      "cell_type": "code",
      "source": [
        "# b) (1)\n"
      ],
      "outputs": [],
      "execution_count": 13,
      "metadata": {}
    },
    {
      "cell_type": "markdown",
      "source": [
        "c) That didn't the set alumni[\"Gender\"] column however. You will need to update the column when using the replace command 'alumni[\"Gender\"]=<replace command>', show how this is done below"
      ],
      "metadata": {}
    },
    {
      "cell_type": "code",
      "source": [
        "# c) (1)\n"
      ],
      "outputs": [],
      "execution_count": 14,
      "metadata": {}
    },
    {
      "cell_type": "markdown",
      "source": [
        "d) You can set it directly by using the df.loc command, show how this can be done by using the 'df.loc[row_indexer,col_indexer] = value' command to convert the 'M' to 'Male'"
      ],
      "metadata": {}
    },
    {
      "cell_type": "code",
      "source": [
        "# d) (1)\n"
      ],
      "outputs": [],
      "execution_count": 15,
      "metadata": {}
    },
    {
      "cell_type": "markdown",
      "source": [
        "e) Now run the 'value_counts' for Gender again to see the correct columns - 'Male' and 'Female' "
      ],
      "metadata": {}
    },
    {
      "cell_type": "code",
      "source": [
        "# e) (1)\n"
      ],
      "outputs": [],
      "execution_count": 16,
      "metadata": {}
    },
    {
      "cell_type": "markdown",
      "source": [
        "### Question 5 :  Working with the data set (4)\n",
        "\n",
        "a) get the median, b) mean and c) standard deviation for the 'Salary' column"
      ],
      "metadata": {}
    },
    {
      "cell_type": "code",
      "source": [
        "# a)(1)\n"
      ],
      "outputs": [],
      "execution_count": 17,
      "metadata": {}
    },
    {
      "cell_type": "code",
      "source": [
        "# b)(1)\n"
      ],
      "outputs": [],
      "execution_count": 18,
      "metadata": {}
    },
    {
      "cell_type": "code",
      "source": [
        "# c)(1)\n"
      ],
      "outputs": [],
      "execution_count": 19,
      "metadata": {}
    },
    {
      "cell_type": "markdown",
      "source": [
        "d) identify which alumni paid more than $15000 in fees, using the 'Fee' column"
      ],
      "metadata": {}
    },
    {
      "cell_type": "code",
      "source": [
        "# d) (1)\n"
      ],
      "outputs": [],
      "execution_count": 20,
      "metadata": {}
    },
    {
      "cell_type": "markdown",
      "source": [
        "### Question 6 :  Visualise the data set (4 Marks)\n",
        "\n",
        "a) Using the 'Diploma Type' column, plot a bar chart and show its value counts."
      ],
      "metadata": {}
    },
    {
      "cell_type": "code",
      "source": [
        "#a) (1)\n"
      ],
      "outputs": [],
      "execution_count": 21,
      "metadata": {
        "scrolled": false
      }
    },
    {
      "cell_type": "markdown",
      "source": [
        "b) Now create a box plot comparison between 'Savings' and 'Salary' columns"
      ],
      "metadata": {}
    },
    {
      "cell_type": "code",
      "source": [
        "#b) (1)\n"
      ],
      "outputs": [],
      "execution_count": 22,
      "metadata": {}
    },
    {
      "cell_type": "markdown",
      "source": [
        "c) Generate a histogram with the 'Salary' column and use 12 bins."
      ],
      "metadata": {}
    },
    {
      "cell_type": "code",
      "source": [
        "#c) (1)\n"
      ],
      "outputs": [],
      "execution_count": 23,
      "metadata": {}
    },
    {
      "cell_type": "markdown",
      "source": [
        "d) Generate a scatter plot comparing 'Salary' and 'Savings' columns."
      ],
      "metadata": {}
    },
    {
      "cell_type": "code",
      "source": [
        "#d) (1)\n"
      ],
      "outputs": [],
      "execution_count": 24,
      "metadata": {
        "scrolled": true
      }
    },
    {
      "cell_type": "markdown",
      "source": [
        "### Question 7 :  Contingency Table (2 Marks)\n",
        "\n",
        "Using both the 'Martial Status' and 'Defaulted' create a contingency table. Hint: crosstab"
      ],
      "metadata": {}
    },
    {
      "cell_type": "code",
      "source": [
        "# Q7 (2)\n"
      ],
      "outputs": [],
      "execution_count": 25,
      "metadata": {}
    }
  ],
  "metadata": {
    "kernelspec": {
      "name": "python3",
      "language": "python",
      "display_name": "Python 3"
    },
    "language_info": {
      "name": "python",
      "version": "3.6.9",
      "mimetype": "text/x-python",
      "codemirror_mode": {
        "name": "ipython",
        "version": 3
      },
      "pygments_lexer": "ipython3",
      "nbconvert_exporter": "python",
      "file_extension": ".py"
    },
    "kernel_info": {
      "name": "python3"
    },
    "nteract": {
      "version": "nteract-front-end@1.0.0"
    }
  },
  "nbformat": 4,
  "nbformat_minor": 2
}